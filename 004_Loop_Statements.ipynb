{
 "cells": [
  {
   "cell_type": "markdown",
   "metadata": {
    "extensions": {
     "jupyter_dashboards": {
      "version": 1,
      "views": {
       "grid_default": {},
       "report_default": {}
      }
     }
    }
   },
   "source": [
    "# LAB #004 <br> Loop Statements"
   ]
  },
  {
   "cell_type": "markdown",
   "metadata": {
    "heading_collapsed": true
   },
   "source": [
    "## 1"
   ]
  },
  {
   "cell_type": "markdown",
   "metadata": {
    "hidden": true
   },
   "source": [
    "### Write a Python program to print the square of all integers from 1 to N."
   ]
  },
  {
   "cell_type": "markdown",
   "metadata": {
    "heading_collapsed": true,
    "hidden": true
   },
   "source": [
    "#### <b> Description </b>"
   ]
  },
  {
   "cell_type": "markdown",
   "metadata": {
    "hidden": true
   },
   "source": [
    "<b>Tasks :</b><br>\n",
    "1. Read an integer N. \n",
    "2. For all non-negative integers i < N, print i<sup>2</sup>.\n",
    "\n",
    "<b>Input Format</b><br>\n",
    "The input is an integer, N.\n",
    "\n",
    "<b>Constraints</b><br>\n",
    "1 <= N <= 20\n",
    "\n",
    "<b>Output Format</b><br>\n",
    "Print N lines, one corresponding to each i with i<sup>2</sup>.\n",
    "\n",
    "<b>Sample Input</b><br>\n",
    "5\n",
    "    \n",
    "<b>Sample Output</b><br>\n",
    "0<br>\n",
    "1<br>\n",
    "4<br>\n",
    "9<br>\n",
    "16"
   ]
  },
  {
   "cell_type": "markdown",
   "metadata": {
    "heading_collapsed": true,
    "hidden": true
   },
   "source": [
    "#### <b> Code Snippet </b>"
   ]
  },
  {
   "cell_type": "code",
   "execution_count": null,
   "metadata": {
    "hidden": true
   },
   "outputs": [],
   "source": [
    "if __name__ == '__main__':\n",
    "    n = int(input(\"Enter a number : \"))\n",
    "    print(\"The square numbers are : \")\n",
    "    # Write your code here"
   ]
  },
  {
   "cell_type": "markdown",
   "metadata": {
    "heading_collapsed": true
   },
   "source": [
    "## 2"
   ]
  },
  {
   "cell_type": "markdown",
   "metadata": {
    "heading_collapsed": true,
    "hidden": true
   },
   "source": [
    "### Write a Python program to print Fibonacci numbers in 1 to N."
   ]
  },
  {
   "cell_type": "markdown",
   "metadata": {
    "heading_collapsed": true,
    "hidden": true
   },
   "source": [
    "#### <b> Description </b>"
   ]
  },
  {
   "cell_type": "markdown",
   "metadata": {
    "hidden": true
   },
   "source": [
    "Fibonacci Series is a series of numbers in which each number ( Fibonacci number ) is the sum of the two preceding numbers. <br>\n",
    "The simplest is the series 0, 1, 1, 2, 3, 5, 8, etc.\n",
    "\n",
    "<b>Tasks :</b><br>\n",
    "1. Read an integer N. \n",
    "2. Print the Fibonacci Series upto N.\n",
    "\n",
    "<b>Input Format</b><br>\n",
    "The input is an integer, N.\n",
    "\n",
    "<b>Constraints</b><br>\n",
    "1 <= N <= 500\n",
    "\n",
    "<b>Output Format</b><br>\n",
    "Print Fibonacci Number i from Fibonacci Series, where i <= N.\n",
    "\n",
    "<b>Sample Input</b><br>\n",
    "20\n",
    "    \n",
    "<b>Sample Output</b><br>\n",
    "0<br>\n",
    "1<br>\n",
    "1<br>\n",
    "2<br>\n",
    "3<br>\n",
    "5<br>\n",
    "8<br>\n",
    "13"
   ]
  },
  {
   "cell_type": "markdown",
   "metadata": {
    "heading_collapsed": true,
    "hidden": true
   },
   "source": [
    "#### <b> Code Snippet </b>"
   ]
  },
  {
   "cell_type": "code",
   "execution_count": null,
   "metadata": {
    "hidden": true
   },
   "outputs": [],
   "source": [
    "if __name__ == '__main__':\n",
    "    n = int(input(\"Enter a number : \"))\n",
    "    print(\"The Fibonacci Series is :\")\n",
    "    # Write your code here"
   ]
  },
  {
   "cell_type": "markdown",
   "metadata": {
    "heading_collapsed": true
   },
   "source": [
    "## 3"
   ]
  },
  {
   "cell_type": "markdown",
   "metadata": {
    "heading_collapsed": true,
    "hidden": true
   },
   "source": [
    "### Write a Python program to find the factorial of a given number N."
   ]
  },
  {
   "cell_type": "markdown",
   "metadata": {
    "heading_collapsed": true,
    "hidden": true
   },
   "source": [
    "#### <b> Description </b>"
   ]
  },
  {
   "cell_type": "markdown",
   "metadata": {
    "hidden": true
   },
   "source": [
    "A factorial is product of all the numbers from 1 to N. <br>\n",
    "If N < 0, then N! = Factorial does Not Exists. <br>\n",
    "If N = 0, then N! = 1. <br>\n",
    "If N >= 1 then N! = 1 * 2 * 3 * ... * N <br>\n",
    "\n",
    "Example :<br>\n",
    "-2! = Factorial does Not Exists <br>\n",
    " 0! = 1 <br>\n",
    " 1! = 1 <br>\n",
    " 6! = 1 * 2 * 3 * 4 * 5 * 6 = 720 <br>\n",
    "\n",
    "<b>Tasks :</b><br>\n",
    "1. Read an integer N. \n",
    "2. Print the Factorial of N.\n",
    "\n",
    "<b>Input Format</b><br>\n",
    "The input is an integer, N.\n",
    "\n",
    "<b>Constraints</b><br>\n",
    "-10 <= N <= 500\n",
    "\n",
    "<b>Output Format</b><br>\n",
    "Print Factorial of N.\n",
    "\n",
    "<b>Sample Input</b><br>\n",
    "6\n",
    "    \n",
    "<b>Sample Output</b><br>\n",
    "Factorial = 720"
   ]
  },
  {
   "cell_type": "markdown",
   "metadata": {
    "heading_collapsed": true,
    "hidden": true
   },
   "source": [
    "#### <b> Code Snippet </b>"
   ]
  },
  {
   "cell_type": "code",
   "execution_count": null,
   "metadata": {
    "hidden": true
   },
   "outputs": [],
   "source": [
    "if __name__ == '__main__':\n",
    "    n = int(input(\"Enter a number : \"))\n",
    "    # Write your code here"
   ]
  },
  {
   "cell_type": "markdown",
   "metadata": {
    "heading_collapsed": true
   },
   "source": [
    "## 4"
   ]
  },
  {
   "cell_type": "markdown",
   "metadata": {
    "heading_collapsed": true,
    "hidden": true
   },
   "source": [
    "### Write a Python program that prints each item and its corresponding type from the list."
   ]
  },
  {
   "cell_type": "markdown",
   "metadata": {
    "heading_collapsed": true,
    "hidden": true
   },
   "source": [
    "#### <b> Description </b>"
   ]
  },
  {
   "cell_type": "markdown",
   "metadata": {
    "hidden": true
   },
   "source": [
    "Variables can store data of different types, and different types can do different things.\n",
    "Python has the following data types built-in by default, in these categories:\n",
    "\n",
    "Text Type:\tstr\n",
    "Numeric Types:\tint, float, complex\n",
    "Sequence Types:\tlist, tuple, range\n",
    "Mapping Type:\tdict\n",
    "Set Types:\tset, frozenset\n",
    "Boolean Type:\tbool\n",
    "Binary Types:\tbytes, bytearray, memoryview\n",
    "\n",
    "\n",
    "Example :<br>\n",
    "if x = 5\n",
    "then type(x) is int \n",
    "\n",
    "<b>Tasks :</b><br>\n",
    "1. Iterate through the list. \n",
    "2. Print the each item i from list and its type.\n",
    "\n",
    "<b>Input Format</b><br>\n",
    "The list L of N items.\n",
    "\n",
    "<b>Constraints</b><br>\n",
    "1 <= items in list <= 10\n",
    "\n",
    "<b>Output Format</b><br>\n",
    "Print i and type of i for each i in L.\n",
    "\n",
    "<b>Sample Input</b><br>\n",
    "L = [1452, 11.23, 1+2j, True, 'Python', (0, -1), [5, 12], {\"class\":'V', \"section\":'A'}]\n",
    "    \n",
    "<b>Sample Output</b><br>\n",
    "1452 <class 'int'>\n",
    "11.23 <class 'float'>\n",
    "(1+2j) <class 'complex'>\n",
    "True <class 'bool'>\n",
    "Python <class 'str'>\n",
    "(0, -1) <class 'tuple'>\n",
    "[5, 12] <class 'list'>\n",
    "{'class': 'V', 'section': 'A'} <class 'dict'>"
   ]
  },
  {
   "cell_type": "markdown",
   "metadata": {
    "heading_collapsed": true,
    "hidden": true
   },
   "source": [
    "#### <b> Code Snippet </b>"
   ]
  },
  {
   "cell_type": "code",
   "execution_count": 24,
   "metadata": {
    "hidden": true
   },
   "outputs": [
    {
     "name": "stdout",
     "output_type": "stream",
     "text": [
      "1\n"
     ]
    }
   ],
   "source": [
    "if __name__ == '__main__':\n",
    "    l = [1452, 11.23, 1+2j, True, 'Python', (0, -1), [5, 12], {\"class\":'V', \"section\":'A'}]\n",
    "    # Write your code here    "
   ]
  }
 ],
 "metadata": {
  "extensions": {
   "jupyter_dashboards": {
    "activeView": "grid_default",
    "version": 1,
    "views": {
     "grid_default": {
      "cellMargin": 10,
      "defaultCellHeight": 20,
      "maxColumns": 12,
      "name": "grid",
      "type": "grid"
     },
     "report_default": {
      "name": "report",
      "type": "report"
     }
    }
   }
  },
  "kernelspec": {
   "display_name": "Python 3",
   "language": "python",
   "name": "python3"
  },
  "language_info": {
   "codemirror_mode": {
    "name": "ipython",
    "version": 3
   },
   "file_extension": ".py",
   "mimetype": "text/x-python",
   "name": "python",
   "nbconvert_exporter": "python",
   "pygments_lexer": "ipython3",
   "version": "3.6.10"
  }
 },
 "nbformat": 4,
 "nbformat_minor": 4
}
