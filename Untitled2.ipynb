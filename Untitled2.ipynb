{
 "cells": [
  {
   "cell_type": "markdown",
   "metadata": {},
   "source": [
    "# LAB #004 Loop Statements"
   ]
  },
  {
   "cell_type": "markdown",
   "metadata": {},
   "source": [
    " 1.Write a Python program to print the square of all integers from 1 to N."
   ]
  },
  {
   "cell_type": "markdown",
   "metadata": {},
   "source": [
    "Description \n",
    "Tasks :\n",
    "\n",
    "Read an integer N.\n",
    "For all non-negative integers i < N, print i2.\n",
    "Input Format\n",
    "The input is an integer, N.\n",
    "\n",
    "Constraints\n",
    "1 <= N <= 20\n",
    "\n",
    "Output Format\n",
    "Print N lines, one corresponding to each i with i2.\n",
    "\n",
    "Sample Input\n",
    "5\n",
    "\n",
    "Sample Output\n",
    "0\n",
    "1\n",
    "4\n",
    "9\n",
    "16\n"
   ]
  },
  {
   "cell_type": "markdown",
   "metadata": {},
   "source": [
    "Code Snippet"
   ]
  },
  {
   "cell_type": "code",
   "execution_count": null,
   "metadata": {},
   "outputs": [],
   "source": [
    "if __name__ == '__main__':\n",
    "    n = int(input(\"Enter a number : \"))\n",
    "    print(\"The square numbers are : \")\n",
    "    # Write your code here"
   ]
  },
  {
   "cell_type": "markdown",
   "metadata": {},
   "source": [
    "2.Write a Python program to print Fibonacci numbers in 1 to N."
   ]
  },
  {
   "cell_type": "markdown",
   "metadata": {},
   "source": [
    "Description \n",
    "Fibonacci Series is a series of numbers in which each number ( Fibonacci number ) is the sum of the two preceding numbers.\n",
    "The simplest is the series 0, 1, 1, 2, 3, 5, 8, etc.\n",
    "\n",
    "Tasks :\n",
    "\n",
    "Read an integer N.\n",
    "Print the Fibonacci Series upto N.\n",
    "Input Format\n",
    "The input is an integer, N.\n",
    "\n",
    "Constraints\n",
    "1 <= N <= 500\n",
    "\n",
    "Output Format\n",
    "Print Fibonacci Number i from Fibonacci Series, where i <= N.\n",
    "\n",
    "Sample Input\n",
    "20\n",
    "\n",
    "Sample Output\n",
    "0\n",
    "1\n",
    "1\n",
    "2\n",
    "3\n",
    "5\n",
    "8\n",
    "13"
   ]
  },
  {
   "cell_type": "markdown",
   "metadata": {},
   "source": [
    "Code Snippet "
   ]
  },
  {
   "cell_type": "code",
   "execution_count": null,
   "metadata": {},
   "outputs": [],
   "source": [
    "if __name__ == '__main__':\n",
    "    n = int(input(\"Enter a number : \"))\n",
    "    print(\"The Fibonacci Series is :\")\n",
    "    # Write your code here"
   ]
  }
 ],
 "metadata": {
  "kernelspec": {
   "display_name": "Python 3",
   "language": "python",
   "name": "python3"
  },
  "language_info": {
   "codemirror_mode": {
    "name": "ipython",
    "version": 3
   },
   "file_extension": ".py",
   "mimetype": "text/x-python",
   "name": "python",
   "nbconvert_exporter": "python",
   "pygments_lexer": "ipython3",
   "version": "3.6.9"
  }
 },
 "nbformat": 4,
 "nbformat_minor": 4
}
